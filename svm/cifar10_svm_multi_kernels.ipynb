{
 "nbformat": 4,
 "nbformat_minor": 2,
 "metadata": {
  "language_info": {
   "name": "python",
   "codemirror_mode": {
    "name": "ipython",
    "version": 3
   },
   "version": "3.7.6-final"
  },
  "orig_nbformat": 2,
  "file_extension": ".py",
  "mimetype": "text/x-python",
  "name": "python",
  "npconvert_exporter": "python",
  "pygments_lexer": "ipython3",
  "version": 3,
  "kernelspec": {
   "name": "python37664bittfgpuconda330b8f847c64457aa2b9a18bb54fd6ef",
   "display_name": "Python 3.7.6 64-bit ('tf_gpu': conda)"
  }
 },
 "cells": [
  {
   "cell_type": "code",
   "execution_count": 19,
   "metadata": {},
   "outputs": [],
   "source": [
    "import numpy as np\n",
    "import pickle\n",
    "import pandas as pd\n",
    "import matplotlib.pyplot as plt\n",
    "from sklearn import preprocessing, model_selection, svm, neighbors\n",
    "from joblib import dump, load"
   ]
  },
  {
   "cell_type": "code",
   "execution_count": 6,
   "metadata": {},
   "outputs": [],
   "source": [
    "def unpickle(file):\n",
    "    import pickle\n",
    "    with open(file, 'rb') as fo:\n",
    "        dict = pickle.load(fo, encoding='bytes')\n",
    "    return dict\n",
    "\n",
    "def cifar10_plot(im):\n",
    "    im_r = im[0:1024].reshape(32, 32)\n",
    "    im_g = im[1024:2048].reshape(32, 32)\n",
    "    im_b = im[2048:].reshape(32, 32)\n",
    "\n",
    "    img = np.dstack((im_r, im_g, im_b))\n",
    "\n",
    "    plt.imshow(img) \n",
    "    plt.show()"
   ]
  },
  {
   "cell_type": "code",
   "execution_count": 40,
   "metadata": {},
   "outputs": [
    {
     "name": "stdout",
     "output_type": "stream",
     "text": "(50000,)\n"
    }
   ],
   "source": [
    "classesName = ['plane', 'car', 'bird', 'cat', 'deer', 'dog', 'frog', 'horse', 'ship', 'truck']\n",
    "\n",
    "x = unpickle('data_batch_1')\n",
    "data = np.array(x[b'data'])\n",
    "labels = np.array(x[b'labels'])\n",
    "\n",
    "x = unpickle('data_batch_2')\n",
    "data = np.append(data, np.array(x[b'data']), axis=0)\n",
    "labels = np.append(labels, np.array(x[b'labels']), axis=0)\n",
    "\n",
    "x = unpickle('data_batch_3')\n",
    "data = np.append(data, np.array(x[b'data']), axis=0)\n",
    "labels = np.append(labels, np.array(x[b'labels']), axis=0)\n",
    "\n",
    "x = unpickle('data_batch_4')\n",
    "data = np.append(data, np.array(x[b'data']), axis=0)\n",
    "labels = np.append(labels, np.array(x[b'labels']), axis=0)\n",
    "\n",
    "x = unpickle('data_batch_5')\n",
    "data = np.append(data, np.array(x[b'data']), axis=0)\n",
    "labels = np.append(labels, np.array(x[b'labels']), axis=0)\n",
    "\n",
    "print(labels.shape)\n",
    "\n",
    "xtrain, xtest, ytrain, ytest = model_selection.train_test_split(data, labels, test_size=0.4)"
   ]
  },
  {
   "cell_type": "code",
   "execution_count": 39,
   "metadata": {},
   "outputs": [
    {
     "name": "stdout",
     "output_type": "stream",
     "text": "[LibSVM]Finished training & saved model\nAccuracy 0.5315\n"
    }
   ],
   "source": [
    "# Train the classifier\n",
    "# clf = neighbors.KNeighborsClassifier(n_neighbors=50)\n",
    "clf = svm.SVC(kernel='rbf', verbose=True)\n",
    "clf.fit(xtrain, ytrain)\n",
    "\n",
    "# Save the trained classifier\n",
    "dump(clf, './svm_models/poly.joblib') \n",
    "print(\"Finished training & saved model\")"
   ]
  },
  {
   "cell_type": "code",
   "execution_count": 41,
   "metadata": {},
   "outputs": [
    {
     "name": "stdout",
     "output_type": "stream",
     "text": "Accuracy 0.6699\n"
    }
   ],
   "source": [
    "# Test the accuracy\n",
    "accu = clf.score(xtest, ytest)\n",
    "print(\"Accuracy {}\".format(accu))"
   ]
  },
  {
   "cell_type": "code",
   "execution_count": 17,
   "metadata": {},
   "outputs": [
    {
     "name": "stdout",
     "output_type": "stream",
     "text": "True\nSample Image car\nPredicted Image car\n"
    },
    {
     "data": {
      "image/png": "[encoded data removed]",
      "image/svg+xml": "<?xml version=\"1.0\" encoding=\"utf-8\" standalone=\"no\"?>\r\n<!DOCTYPE svg PUBLIC \"-//W3C//DTD SVG 1.1//EN\"\r\n  \"http://www.w3.org/Graphics/SVG/1.1/DTD/svg11.dtd\">\r\n<!-- Created with matplotlib (https://matplotlib.org/) -->\r\n<svg height=\"248.919844pt\" version=\"1.1\" viewBox=\"0 0 251.565 248.919844\" width=\"251.565pt\" xmlns=\"http://www.w3.org/2000/svg\" xmlns:xlink=\"http://www.w3.org/1999/xlink\">\r\n <defs>\r\n  <style type=\"text/css\">\r\n*{stroke-linecap:butt;stroke-linejoin:round;}\r\n  </style>\r\n </defs>\r\n <g id=\"figure_1\">\r\n  <g id=\"patch_1\">\r\n   <path d=\"M 0 248.919844 \r\nL 251.565 248.919844 \r\nL 251.565 0 \r\nL 0 0 \r\nz\r\n\" style=\"fill:none;\"/>\r\n  </g>\r\n  <g id=\"axes_1\">\r\n   <g id=\"patch_2\">\r\n    <path d=\"M 26.925 225.041719 \r\nL 244.365 225.041719 \r\nL 244.365 7.601719 \r\nL 26.925 7.601719 \r\nz\r\n\" style=\"fill:#ffffff;\"/>\r\n   </g>\r\n   <g clip-path=\"url(#pcea5efdea6)\">\r\n    <image height=\"218\" id=\"image7e33e88b2e\" transform=\"scale(1 -1)translate(0 -218)\" width=\"218\" x=\"26.925\" xlink:href=\"data:image/png;base64,\r\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\" y=\"-7.041719\"/>\r\n   </g>\r\n   <g id=\"matplotlib.axis_1\">\r\n    <g id=\"xtick_1\">\r\n     <g id=\"line2d_1\">\r\n      <defs>\r\n       <path d=\"M 0 0 \r\nL 0 3.5 \r\n\" id=\"mdd0a978eba\" style=\"stroke:#000000;stroke-width:0.8;\"/>\r\n      </defs>\r\n      <g>\r\n       <use style=\"stroke:#000000;stroke-width:0.8;\" x=\"30.3225\" xlink:href=\"#mdd0a978eba\" y=\"225.041719\"/>\r\n      </g>\r\n     </g>\r\n     <g id=\"text_1\">\r\n      <!-- 0 -->\r\n      <defs>\r\n       <path d=\"M 31.78125 66.40625 \r\nQ 24.171875 66.40625 20.328125 58.90625 \r\nQ 16.5 51.421875 16.5 36.375 \r\nQ 16.5 21.390625 20.328125 13.890625 \r\nQ 24.171875 6.390625 31.78125 6.390625 \r\nQ 39.453125 6.390625 43.28125 13.890625 \r\nQ 47.125 21.390625 47.125 36.375 \r\nQ 47.125 51.421875 43.28125 58.90625 \r\nQ 39.453125 66.40625 31.78125 66.40625 \r\nz\r\nM 31.78125 74.21875 \r\nQ 44.046875 74.21875 50.515625 64.515625 \r\nQ 56.984375 54.828125 56.984375 36.375 \r\nQ 56.984375 17.96875 50.515625 8.265625 \r\nQ 44.046875 -1.421875 31.78125 -1.421875 \r\nQ 19.53125 -1.421875 13.0625 8.265625 \r\nQ 6.59375 17.96875 6.59375 36.375 \r\nQ 6.59375 54.828125 13.0625 64.515625 \r\nQ 19.53125 74.21875 31.78125 74.21875 \r\nz\r\n\" id=\"DejaVuSans-48\"/>\r\n      </defs>\r\n      <g transform=\"translate(27.14125 239.640156)scale(0.1 -0.1)\">\r\n       <use xlink:href=\"#DejaVuSans-48\"/>\r\n      </g>\r\n     </g>\r\n    </g>\r\n    <g id=\"xtick_2\">\r\n     <g id=\"line2d_2\">\r\n      <g>\r\n       <use style=\"stroke:#000000;stroke-width:0.8;\" x=\"64.2975\" xlink:href=\"#mdd0a978eba\" y=\"225.041719\"/>\r\n      </g>\r\n     </g>\r\n     <g id=\"text_2\">\r\n      <!-- 5 -->\r\n      <defs>\r\n       <path d=\"M 10.796875 72.90625 \r\nL 49.515625 72.90625 \r\nL 49.515625 64.59375 \r\nL 19.828125 64.59375 \r\nL 19.828125 46.734375 \r\nQ 21.96875 47.46875 24.109375 47.828125 \r\nQ 26.265625 48.1875 28.421875 48.1875 \r\nQ 40.625 48.1875 47.75 41.5 \r\nQ 54.890625 34.8125 54.890625 23.390625 \r\nQ 54.890625 11.625 47.5625 5.09375 \r\nQ 40.234375 -1.421875 26.90625 -1.421875 \r\nQ 22.3125 -1.421875 17.546875 -0.640625 \r\nQ 12.796875 0.140625 7.71875 1.703125 \r\nL 7.71875 11.625 \r\nQ 12.109375 9.234375 16.796875 8.0625 \r\nQ 21.484375 6.890625 26.703125 6.890625 \r\nQ 35.15625 6.890625 40.078125 11.328125 \r\nQ 45.015625 15.765625 45.015625 23.390625 \r\nQ 45.015625 31 40.078125 35.4375 \r\nQ 35.15625 39.890625 26.703125 39.890625 \r\nQ 22.75 39.890625 18.8125 39.015625 \r\nQ 14.890625 38.140625 10.796875 36.28125 \r\nz\r\n\" id=\"DejaVuSans-53\"/>\r\n      </defs>\r\n      <g transform=\"translate(61.11625 239.640156)scale(0.1 -0.1)\">\r\n       <use xlink:href=\"#DejaVuSans-53\"/>\r\n      </g>\r\n     </g>\r\n    </g>\r\n    <g id=\"xtick_3\">\r\n     <g id=\"line2d_3\">\r\n      <g>\r\n       <use style=\"stroke:#000000;stroke-width:0.8;\" x=\"98.2725\" xlink:href=\"#mdd0a978eba\" y=\"225.041719\"/>\r\n      </g>\r\n     </g>\r\n     <g id=\"text_3\">\r\n      <!-- 10 -->\r\n      <defs>\r\n       <path d=\"M 12.40625 8.296875 \r\nL 28.515625 8.296875 \r\nL 28.515625 63.921875 \r\nL 10.984375 60.40625 \r\nL 10.984375 69.390625 \r\nL 28.421875 72.90625 \r\nL 38.28125 72.90625 \r\nL 38.28125 8.296875 \r\nL 54.390625 8.296875 \r\nL 54.390625 0 \r\nL 12.40625 0 \r\nz\r\n\" id=\"DejaVuSans-49\"/>\r\n      </defs>\r\n      <g transform=\"translate(91.91 239.640156)scale(0.1 -0.1)\">\r\n       <use xlink:href=\"#DejaVuSans-49\"/>\r\n       <use x=\"63.623047\" xlink:href=\"#DejaVuSans-48\"/>\r\n      </g>\r\n     </g>\r\n    </g>\r\n    <g id=\"xtick_4\">\r\n     <g id=\"line2d_4\">\r\n      <g>\r\n       <use style=\"stroke:#000000;stroke-width:0.8;\" x=\"132.2475\" xlink:href=\"#mdd0a978eba\" y=\"225.041719\"/>\r\n      </g>\r\n     </g>\r\n     <g id=\"text_4\">\r\n      <!-- 15 -->\r\n      <g transform=\"translate(125.885 239.640156)scale(0.1 -0.1)\">\r\n       <use xlink:href=\"#DejaVuSans-49\"/>\r\n       <use x=\"63.623047\" xlink:href=\"#DejaVuSans-53\"/>\r\n      </g>\r\n     </g>\r\n    </g>\r\n    <g id=\"xtick_5\">\r\n     <g id=\"line2d_5\">\r\n      <g>\r\n       <use style=\"stroke:#000000;stroke-width:0.8;\" x=\"166.2225\" xlink:href=\"#mdd0a978eba\" y=\"225.041719\"/>\r\n      </g>\r\n     </g>\r\n     <g id=\"text_5\">\r\n      <!-- 20 -->\r\n      <defs>\r\n       <path d=\"M 19.1875 8.296875 \r\nL 53.609375 8.296875 \r\nL 53.609375 0 \r\nL 7.328125 0 \r\nL 7.328125 8.296875 \r\nQ 12.9375 14.109375 22.625 23.890625 \r\nQ 32.328125 33.6875 34.8125 36.53125 \r\nQ 39.546875 41.84375 41.421875 45.53125 \r\nQ 43.3125 49.21875 43.3125 52.78125 \r\nQ 43.3125 58.59375 39.234375 62.25 \r\nQ 35.15625 65.921875 28.609375 65.921875 \r\nQ 23.96875 65.921875 18.8125 64.3125 \r\nQ 13.671875 62.703125 7.8125 59.421875 \r\nL 7.8125 69.390625 \r\nQ 13.765625 71.78125 18.9375 73 \r\nQ 24.125 74.21875 28.421875 74.21875 \r\nQ 39.75 74.21875 46.484375 68.546875 \r\nQ 53.21875 62.890625 53.21875 53.421875 \r\nQ 53.21875 48.921875 51.53125 44.890625 \r\nQ 49.859375 40.875 45.40625 35.40625 \r\nQ 44.1875 33.984375 37.640625 27.21875 \r\nQ 31.109375 20.453125 19.1875 8.296875 \r\nz\r\n\" id=\"DejaVuSans-50\"/>\r\n      </defs>\r\n      <g transform=\"translate(159.86 239.640156)scale(0.1 -0.1)\">\r\n       <use xlink:href=\"#DejaVuSans-50\"/>\r\n       <use x=\"63.623047\" xlink:href=\"#DejaVuSans-48\"/>\r\n      </g>\r\n     </g>\r\n    </g>\r\n    <g id=\"xtick_6\">\r\n     <g id=\"line2d_6\">\r\n      <g>\r\n       <use style=\"stroke:#000000;stroke-width:0.8;\" x=\"200.1975\" xlink:href=\"#mdd0a978eba\" y=\"225.041719\"/>\r\n      </g>\r\n     </g>\r\n     <g id=\"text_6\">\r\n      <!-- 25 -->\r\n      <g transform=\"translate(193.835 239.640156)scale(0.1 -0.1)\">\r\n       <use xlink:href=\"#DejaVuSans-50\"/>\r\n       <use x=\"63.623047\" xlink:href=\"#DejaVuSans-53\"/>\r\n      </g>\r\n     </g>\r\n    </g>\r\n    <g id=\"xtick_7\">\r\n     <g id=\"line2d_7\">\r\n      <g>\r\n       <use style=\"stroke:#000000;stroke-width:0.8;\" x=\"234.1725\" xlink:href=\"#mdd0a978eba\" y=\"225.041719\"/>\r\n      </g>\r\n     </g>\r\n     <g id=\"text_7\">\r\n      <!-- 30 -->\r\n      <defs>\r\n       <path d=\"M 40.578125 39.3125 \r\nQ 47.65625 37.796875 51.625 33 \r\nQ 55.609375 28.21875 55.609375 21.1875 \r\nQ 55.609375 10.40625 48.1875 4.484375 \r\nQ 40.765625 -1.421875 27.09375 -1.421875 \r\nQ 22.515625 -1.421875 17.65625 -0.515625 \r\nQ 12.796875 0.390625 7.625 2.203125 \r\nL 7.625 11.71875 \r\nQ 11.71875 9.328125 16.59375 8.109375 \r\nQ 21.484375 6.890625 26.8125 6.890625 \r\nQ 36.078125 6.890625 40.9375 10.546875 \r\nQ 45.796875 14.203125 45.796875 21.1875 \r\nQ 45.796875 27.640625 41.28125 31.265625 \r\nQ 36.765625 34.90625 28.71875 34.90625 \r\nL 20.21875 34.90625 \r\nL 20.21875 43.015625 \r\nL 29.109375 43.015625 \r\nQ 36.375 43.015625 40.234375 45.921875 \r\nQ 44.09375 48.828125 44.09375 54.296875 \r\nQ 44.09375 59.90625 40.109375 62.90625 \r\nQ 36.140625 65.921875 28.71875 65.921875 \r\nQ 24.65625 65.921875 20.015625 65.03125 \r\nQ 15.375 64.15625 9.8125 62.3125 \r\nL 9.8125 71.09375 \r\nQ 15.4375 72.65625 20.34375 73.4375 \r\nQ 25.25 74.21875 29.59375 74.21875 \r\nQ 40.828125 74.21875 47.359375 69.109375 \r\nQ 53.90625 64.015625 53.90625 55.328125 \r\nQ 53.90625 49.265625 50.4375 45.09375 \r\nQ 46.96875 40.921875 40.578125 39.3125 \r\nz\r\n\" id=\"DejaVuSans-51\"/>\r\n      </defs>\r\n      <g transform=\"translate(227.81 239.640156)scale(0.1 -0.1)\">\r\n       <use xlink:href=\"#DejaVuSans-51\"/>\r\n       <use x=\"63.623047\" xlink:href=\"#DejaVuSans-48\"/>\r\n      </g>\r\n     </g>\r\n    </g>\r\n   </g>\r\n   <g id=\"matplotlib.axis_2\">\r\n    <g id=\"ytick_1\">\r\n     <g id=\"line2d_8\">\r\n      <defs>\r\n       <path d=\"M 0 0 \r\nL -3.5 0 \r\n\" id=\"m303b4d0132\" style=\"stroke:#000000;stroke-width:0.8;\"/>\r\n      </defs>\r\n      <g>\r\n       <use style=\"stroke:#000000;stroke-width:0.8;\" x=\"26.925\" xlink:href=\"#m303b4d0132\" y=\"10.999219\"/>\r\n      </g>\r\n     </g>\r\n     <g id=\"text_8\">\r\n      <!-- 0 -->\r\n      <g transform=\"translate(13.5625 14.798437)scale(0.1 -0.1)\">\r\n       <use xlink:href=\"#DejaVuSans-48\"/>\r\n      </g>\r\n     </g>\r\n    </g>\r\n    <g id=\"ytick_2\">\r\n     <g id=\"line2d_9\">\r\n      <g>\r\n       <use style=\"stroke:#000000;stroke-width:0.8;\" x=\"26.925\" xlink:href=\"#m303b4d0132\" y=\"44.974219\"/>\r\n      </g>\r\n     </g>\r\n     <g id=\"text_9\">\r\n      <!-- 5 -->\r\n      <g transform=\"translate(13.5625 48.773437)scale(0.1 -0.1)\">\r\n       <use xlink:href=\"#DejaVuSans-53\"/>\r\n      </g>\r\n     </g>\r\n    </g>\r\n    <g id=\"ytick_3\">\r\n     <g id=\"line2d_10\">\r\n      <g>\r\n       <use style=\"stroke:#000000;stroke-width:0.8;\" x=\"26.925\" xlink:href=\"#m303b4d0132\" y=\"78.949219\"/>\r\n      </g>\r\n     </g>\r\n     <g id=\"text_10\">\r\n      <!-- 10 -->\r\n      <g transform=\"translate(7.2 82.748437)scale(0.1 -0.1)\">\r\n       <use xlink:href=\"#DejaVuSans-49\"/>\r\n       <use x=\"63.623047\" xlink:href=\"#DejaVuSans-48\"/>\r\n      </g>\r\n     </g>\r\n    </g>\r\n    <g id=\"ytick_4\">\r\n     <g id=\"line2d_11\">\r\n      <g>\r\n       <use style=\"stroke:#000000;stroke-width:0.8;\" x=\"26.925\" xlink:href=\"#m303b4d0132\" y=\"112.924219\"/>\r\n      </g>\r\n     </g>\r\n     <g id=\"text_11\">\r\n      <!-- 15 -->\r\n      <g transform=\"translate(7.2 116.723437)scale(0.1 -0.1)\">\r\n       <use xlink:href=\"#DejaVuSans-49\"/>\r\n       <use x=\"63.623047\" xlink:href=\"#DejaVuSans-53\"/>\r\n      </g>\r\n     </g>\r\n    </g>\r\n    <g id=\"ytick_5\">\r\n     <g id=\"line2d_12\">\r\n      <g>\r\n       <use style=\"stroke:#000000;stroke-width:0.8;\" x=\"26.925\" xlink:href=\"#m303b4d0132\" y=\"146.899219\"/>\r\n      </g>\r\n     </g>\r\n     <g id=\"text_12\">\r\n      <!-- 20 -->\r\n      <g transform=\"translate(7.2 150.698437)scale(0.1 -0.1)\">\r\n       <use xlink:href=\"#DejaVuSans-50\"/>\r\n       <use x=\"63.623047\" xlink:href=\"#DejaVuSans-48\"/>\r\n      </g>\r\n     </g>\r\n    </g>\r\n    <g id=\"ytick_6\">\r\n     <g id=\"line2d_13\">\r\n      <g>\r\n       <use style=\"stroke:#000000;stroke-width:0.8;\" x=\"26.925\" xlink:href=\"#m303b4d0132\" y=\"180.874219\"/>\r\n      </g>\r\n     </g>\r\n     <g id=\"text_13\">\r\n      <!-- 25 -->\r\n      <g transform=\"translate(7.2 184.673437)scale(0.1 -0.1)\">\r\n       <use xlink:href=\"#DejaVuSans-50\"/>\r\n       <use x=\"63.623047\" xlink:href=\"#DejaVuSans-53\"/>\r\n      </g>\r\n     </g>\r\n    </g>\r\n    <g id=\"ytick_7\">\r\n     <g id=\"line2d_14\">\r\n      <g>\r\n       <use style=\"stroke:#000000;stroke-width:0.8;\" x=\"26.925\" xlink:href=\"#m303b4d0132\" y=\"214.849219\"/>\r\n      </g>\r\n     </g>\r\n     <g id=\"text_14\">\r\n      <!-- 30 -->\r\n      <g transform=\"translate(7.2 218.648437)scale(0.1 -0.1)\">\r\n       <use xlink:href=\"#DejaVuSans-51\"/>\r\n       <use x=\"63.623047\" xlink:href=\"#DejaVuSans-48\"/>\r\n      </g>\r\n     </g>\r\n    </g>\r\n   </g>\r\n   <g id=\"patch_3\">\r\n    <path d=\"M 26.925 225.041719 \r\nL 26.925 7.601719 \r\n\" style=\"fill:none;stroke:#000000;stroke-linecap:square;stroke-linejoin:miter;stroke-width:0.8;\"/>\r\n   </g>\r\n   <g id=\"patch_4\">\r\n    <path d=\"M 244.365 225.041719 \r\nL 244.365 7.601719 \r\n\" style=\"fill:none;stroke:#000000;stroke-linecap:square;stroke-linejoin:miter;stroke-width:0.8;\"/>\r\n   </g>\r\n   <g id=\"patch_5\">\r\n    <path d=\"M 26.925 225.041719 \r\nL 244.365 225.041719 \r\n\" style=\"fill:none;stroke:#000000;stroke-linecap:square;stroke-linejoin:miter;stroke-width:0.8;\"/>\r\n   </g>\r\n   <g id=\"patch_6\">\r\n    <path d=\"M 26.925 7.601719 \r\nL 244.365 7.601719 \r\n\" style=\"fill:none;stroke:#000000;stroke-linecap:square;stroke-linejoin:miter;stroke-width:0.8;\"/>\r\n   </g>\r\n  </g>\r\n </g>\r\n <defs>\r\n  <clipPath id=\"pcea5efdea6\">\r\n   <rect height=\"217.44\" width=\"217.44\" x=\"26.925\" y=\"7.601719\"/>\r\n  </clipPath>\r\n </defs>\r\n</svg>\r\n",
      "text/plain": "<Figure size 432x288 with 1 Axes>"
     },
     "metadata": {
      "needs_background": "light"
     },
     "output_type": "display_data"
    }
   ],
   "source": [
    "# Testing the algorithm (Loading the trained classifier)\n",
    "clf = load('./svm_models/poly.joblib') \n",
    "\n",
    "# Select the image to test\n",
    "index = 46\n",
    "example_image = xtest[index, :].reshape(1,-1)\n",
    "\n",
    "prediction = clf.predict(example_image)\n",
    "print(prediction[0] == ytest[index])\n",
    "print(\"Sample Image {}\".format(classesName[ytest[index]]))\n",
    "print(\"Predicted Image {}\".format(classesName[prediction[0]]))\n",
    "\n",
    "img = xtest[index, :]\n",
    "cifar10_plot(img)"
   ]
  },
  {
   "cell_type": "code",
   "execution_count": null,
   "metadata": {},
   "outputs": [],
   "source": []
  }
 ]
}